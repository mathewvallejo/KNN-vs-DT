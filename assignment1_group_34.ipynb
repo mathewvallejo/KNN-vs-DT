{
  "cells": [
    {
      "cell_type": "code",
      "execution_count": null,
      "metadata": {
        "id": "w2ZObaoQ_xwW"
      },
      "outputs": [],
      "source": [
        "!pip install ucimlrepo --quiet"
      ]
    },
    {
      "cell_type": "code",
      "execution_count": null,
      "metadata": {
        "id": "LGHnduOu-u8f"
      },
      "outputs": [],
      "source": [
        "from ucimlrepo import fetch_ucirepo\n",
        "import pandas as pd\n",
        "import numpy as np\n",
        "from numpy import dot\n",
        "from numpy.linalg import norm\n",
        "from sklearn.model_selection import train_test_split\n",
        "import matplotlib.pyplot as plt\n",
        "from typing import List, Tuple\n",
        "from sklearn.metrics import roc_curve, auc\n",
        "import numpy as np\n",
        "from sklearn.neighbors import KNeighborsClassifier\n",
        "import gdown"
      ]
    },
    {
      "cell_type": "code",
      "execution_count": null,
      "metadata": {
        "id": "R0GWouj3M6_M",
        "outputId": "c1a52e0e-4ce9-4768-d2ed-f99efb59b580",
        "colab": {
          "base_uri": "https://localhost:8080/",
          "height": 105
        }
      },
      "outputs": [
        {
          "output_type": "stream",
          "name": "stderr",
          "text": [
            "Downloading...\n",
            "From: https://drive.google.com/uc?id=1f780TW51JNg2nLLhjHIEDk-m-NgAEBrO\n",
            "To: /content/NHANES_age_prediction.csv\n",
            "100%|██████████| 120k/120k [00:00<00:00, 71.9MB/s]\n"
          ]
        },
        {
          "output_type": "execute_result",
          "data": {
            "text/plain": [
              "'NHANES_age_prediction.csv'"
            ],
            "application/vnd.google.colaboratory.intrinsic+json": {
              "type": "string"
            }
          },
          "metadata": {},
          "execution_count": 129
        }
      ],
      "source": [
        "nhanes_csv_url = \"https://drive.google.com/uc?id=1f780TW51JNg2nLLhjHIEDk-m-NgAEBrO\"\n",
        "output = 'NHANES_age_prediction.csv'\n",
        "gdown.download(nhanes_csv_url, output)"
      ]
    },
    {
      "cell_type": "code",
      "execution_count": null,
      "metadata": {
        "id": "IeQHwvahErfl"
      },
      "outputs": [],
      "source": [
        "NHANES_PATH = \"NHANES_age_prediction.csv\""
      ]
    },
    {
      "cell_type": "markdown",
      "metadata": {
        "id": "U5E4hnbL-nOm"
      },
      "source": [
        "# Loading and Cleaning the Data"
      ]
    },
    {
      "cell_type": "code",
      "execution_count": null,
      "metadata": {
        "colab": {
          "base_uri": "https://localhost:8080/"
        },
        "id": "-iZh6dfN-qwI",
        "outputId": "9956f20f-5690-4dc5-afb3-98a4780bee58"
      },
      "outputs": [
        {
          "output_type": "stream",
          "name": "stdout",
          "text": [
            "---------------\n",
            "Information about Missing Values in NHANES\n",
            "No Missing Values\n",
            "---------------\n",
            "Information about Missing Values in BREAST\n",
            "Missing Values in Bare_nuclei: 16\n",
            "Dropping NaN in variable Bare_nuclei\n",
            "Number of duplicates in NHANES: 0/2278\n",
            "Number of duplicates in BREAST: 234/683\n",
            "Dropping duplicates in BREAST\n",
            "---------------------------- BREAST Dataset Statistics ----------------------------\n",
            "                                    4         2  mean_square_diff\n",
            "Bare_nuclei                  7.605932  1.704225         34.830144\n",
            "Uniformity_of_cell_size      6.563559  1.629108         24.348810\n",
            "Uniformity_of_cell_shape     6.538136  1.765258         22.780358\n",
            "Normal_nucleoli              5.902542  1.530516         19.114611\n",
            "Marginal_adhesion            5.635593  1.652582         15.864377\n",
            "Clump_thickness              7.203390  3.356808         14.796196\n",
            "Bland_chromatin              5.978814  2.230047         14.053251\n",
            "Single_epithelial_cell_size  5.305085  2.300469          9.027713\n",
            "Class                        4.000000  2.000000          4.000000\n",
            "Mitoses                      2.614407  1.136150          2.185242\n",
            "Top-4 Ranked by Squared Difference: ['Bare_nuclei', 'Uniformity_of_cell_size', 'Uniformity_of_cell_shape', 'Normal_nucleoli']\n",
            "Top-4 With Spearman Correlation: ['Uniformity_of_cell_size', 'Uniformity_of_cell_shape', 'Bare_nuclei', 'Bland_chromatin']\n",
            "Top features associated with the target variable: ['Uniformity_of_cell_size', 'Bare_nuclei', 'Uniformity_of_cell_shape']\n",
            "---------------------------- NHANES Dataset Statistics ----------------------------\n",
            "                        1           0  mean_square_diff\n",
            "Age             73.425824   35.780564       1417.165594\n",
            "Oral           141.208791  109.990596        974.575736\n",
            "Glucose        104.329670   98.644723         32.318625\n",
            "Blood Insulin   10.405247   12.106661          2.894810\n",
            "age_group        1.000000    0.000000          1.000000\n",
            "Activness        1.909341    1.806165          0.010645\n",
            "BMI             27.886264   27.968286          0.006728\n",
            "Diabetic         2.027473    2.014107          0.000179\n",
            "Gender           1.508242    1.512017          0.000014\n",
            "Top-4 Ranked by Squared Difference: ['Age', 'Oral', 'Glucose', 'Blood Insulin']\n",
            "Top-4 With Spearman Correlation: ['Age', 'Oral', 'Glucose', 'Activness']\n",
            "Top features associated with the target variable: ['Oral', 'Glucose', 'Age']\n"
          ]
        }
      ],
      "source": [
        "# fetch datasets\n",
        "# national_health_and_nutrition_health_survey_2013_2014_nhanes_age_prediction_subset = fetch_ucirepo(id=887)\n",
        "breast_cancer_wisconsin_original = fetch_ucirepo(id=15)\n",
        "PROCESS=True\n",
        "\n",
        "data_nhanes = pd.read_csv(NHANES_PATH)\n",
        "data_nhanes.drop(columns=['SEQN'], inplace=True)\n",
        "\n",
        "features_name_dict = {'RIDAGEYR': 'Age', 'RIAGENDR': 'Gender', 'BMXBMI': 'BMI',\n",
        "                      'LBXGLU': 'Glucose', 'LBXGLT': 'Oral', 'LBXIN': 'Blood Insulin',\n",
        "                      'PAQ605': 'Activness', 'DIQ010': 'Diabetic'}\n",
        "\n",
        "data_nhanes.rename(columns=features_name_dict, inplace=True)\n",
        "\n",
        "X_breast = breast_cancer_wisconsin_original.data.features\n",
        "y_breast = breast_cancer_wisconsin_original.data.targets\n",
        "data_breast = pd.concat([X_breast, y_breast], axis=1)\n",
        "\n",
        "# Data Processing\n",
        "def check_missing_values(dataset: pd.DataFrame, dataset_name: str) -> List:\n",
        "    '''\n",
        "    This function takes in the dataset, and its name (for printing purposes).\n",
        "    It subsequently then finds the variables containing missing values.\n",
        "\n",
        "    The return value is a list of tuple of the format (var_name, %) where % is the percentage\n",
        "    of missing values. This will be used later\n",
        "    '''\n",
        "    missing_values_variables = dataset.columns[dataset.isna().any()].tolist()\n",
        "    print('---------------')\n",
        "    print('Information about Missing Values in {}'.format(dataset_name))\n",
        "    missing_values_details = []\n",
        "    if len(missing_values_variables) > 0:\n",
        "        for column in missing_values_variables:\n",
        "            n_missing_values = dataset[column].isna().sum()\n",
        "            percentage_missing_values = n_missing_values/len(dataset)\n",
        "            missing_values_details.append((column, percentage_missing_values))\n",
        "            print('Missing Values in {}: {}'.format(column, n_missing_values))\n",
        "    else:\n",
        "        print('No Missing Values')\n",
        "    return missing_values_details\n",
        "\n",
        "nhanes_missing_values = check_missing_values(data_nhanes, 'NHANES')\n",
        "breast_missing_values = check_missing_values(data_breast, 'BREAST')\n",
        "\n",
        "def handle_missing_values(dataset: pd.DataFrame, missing_values_information: List) -> None:\n",
        "    for column, percentage_missing_value in missing_values_information:\n",
        "        if percentage_missing_value >= 10:\n",
        "            mean_column = dataset[column].mean()\n",
        "            print('Replacing NaN in variable {} by mean value: {}'.format(column, mean_column))\n",
        "            dataset[column].fillna(mean_column, inplace=True)\n",
        "        else:\n",
        "            print('Dropping NaN in variable {}'.format(column))\n",
        "            dataset.dropna(subset=[column], inplace=True)\n",
        "\n",
        "handle_missing_values(data_nhanes, nhanes_missing_values)\n",
        "handle_missing_values(data_breast, breast_missing_values)\n",
        "\n",
        "def check_duplicates(dataset: pd.DataFrame) -> int:\n",
        "    return dataset.duplicated().sum()\n",
        "\n",
        "def handle_duplicates(dataset: pd.DataFrame, dataset_name: str) -> None:\n",
        "    n_duplicates = check_duplicates(dataset)\n",
        "    print('Number of duplicates in {}: {}/{}'.format(dataset_name, n_duplicates, len(dataset)))\n",
        "    if n_duplicates > 0:\n",
        "        print('Dropping duplicates in {}'.format(dataset_name))\n",
        "        dataset.drop_duplicates(inplace=True)\n",
        "\n",
        "handle_duplicates(data_nhanes, 'NHANES')\n",
        "handle_duplicates(data_breast, 'BREAST')\n",
        "\n",
        "# Breast Cancer Variables: 4: malignant (positive) , 2: benign (negative)\n",
        "# Nhanes Variables: Senior (positive), Adult aka non-Senior (positive)\n",
        "\n",
        "# Basic Statistics\n",
        "def compute_dataset_stats(dataset: pd.DataFrame, dataset_name: str):\n",
        "    print('---------------------------- {} Dataset Statistics ----------------------------'.format(dataset_name))\n",
        "    # convert the categorical data to numerical one\n",
        "    nhanes_converter = {'Adult': 0, 'Senior': 1}\n",
        "    if dataset_name == 'NHANES':\n",
        "        dataset['age_group'] = dataset['age_group'].apply(lambda x: nhanes_converter[x])\n",
        "\n",
        "    target_variable = {'NHANES': ('age_group', 1, 0), 'BREAST': ('Class', 4, 2)}\n",
        "\n",
        "    positive = dataset[dataset[target_variable[dataset_name][0]] == target_variable[dataset_name][1]]\n",
        "    negative = dataset[dataset[target_variable[dataset_name][0]] == target_variable[dataset_name][2]]\n",
        "    features = positive.columns.tolist()\n",
        "    stats_dataframe = pd.DataFrame(index=features)\n",
        "    positive_means, negative_means, squared_diffs = [], [], []\n",
        "\n",
        "    for feature in features:\n",
        "        positive_mean = positive[feature].mean()\n",
        "        negative_mean = negative[feature].mean()\n",
        "\n",
        "        squared_diff = (positive_mean - negative_mean) ** 2\n",
        "\n",
        "        positive_means.append(positive_mean)\n",
        "        negative_means.append(negative_mean)\n",
        "        squared_diffs.append(squared_diff)\n",
        "\n",
        "    stats_dataframe[target_variable[dataset_name][1]] = positive_means\n",
        "    stats_dataframe[target_variable[dataset_name][2]] = negative_means\n",
        "    stats_dataframe['mean_square_diff'] = squared_diffs\n",
        "    stats_dataframe.sort_values(by=['mean_square_diff'], ascending=False, inplace=True)\n",
        "\n",
        "    print(stats_dataframe)\n",
        "\n",
        "    k = 4\n",
        "    top_4_ranked_by_squared_difference = stats_dataframe.index.tolist()[:k]\n",
        "    # compute Spearman aka Rank correlation\n",
        "    correlation = dataset.corr(method='spearman')[target_variable[dataset_name][0]][:].sort_values(ascending=False)\n",
        "    top_4_ranked_by_correlation = correlation.index.tolist()[1:k+1] # The first one obviously here will be the target class itself\n",
        "\n",
        "    print('Top-{} Ranked by Squared Difference: {}'.format(k, top_4_ranked_by_squared_difference))\n",
        "    print('Top-{} With Spearman Correlation: {}'.format(k, top_4_ranked_by_correlation))\n",
        "\n",
        "    intersection_set = set(top_4_ranked_by_correlation).intersection(set(top_4_ranked_by_squared_difference))\n",
        "    print('Top features associated with the target variable: {}'.format(list(intersection_set)))\n",
        "\n",
        "    if PROCESS:\n",
        "        dataset = dataset[list(intersection_set) + [target_variable[dataset_name][0]]]\n",
        "        dataset.to_csv('processed_{}_data_top_{}_features.csv'.format(dataset_name, len(intersection_set)), index=False)\n",
        "    else:\n",
        "        dataset.to_csv('processed_{}_data_top_{}_features.csv'.format(dataset_name, len(dataset.columns)-1), index=False)\n",
        "\n",
        "compute_dataset_stats(data_breast, 'BREAST')\n",
        "compute_dataset_stats(data_nhanes, 'NHANES')"
      ]
    },
    {
      "cell_type": "markdown",
      "metadata": {
        "id": "EUGHC6Bj_NCB"
      },
      "source": [
        "- The first dataset (NHANES) contains no missing values and has no duplicate values\n",
        "- The second dataset (Breast Cancer) has one variable called `Bare_nuclei` has `16` missing values, representing 0.023% of its total number of samples. Consequently we decided just to dynamically drop those values. Additionally, this dataset also has `234` duplicate values (out of `683`), that have been dropped to avoid contamination.\n",
        "\n",
        "- Datasets Statistics\n",
        "    - ---------------------------- BREAST Dataset Statistics ----------------------------\n",
        "\n",
        "                                             Malignant  Benign      mean_square_diff\n",
        "                Bare_nuclei                  7.627615  1.346847         39.448049\n",
        "                Uniformity_of_cell_size      6.577406  1.306306         27.784490\n",
        "                Uniformity_of_cell_shape     6.560669  1.414414         26.483941\n",
        "                Normal_nucleoli              5.857741  1.261261         21.127622\n",
        "                Marginal_adhesion            5.585774  1.346847         17.968504\n",
        "                Clump_thickness              7.188285  2.963964         17.844884\n",
        "                Bland_chromatin              5.974895  2.083333         15.144255\n",
        "                Single_epithelial_cell_size  5.326360  2.108108         10.357144\n",
        "                Class                        4.000000  2.000000          4.000000\n",
        "                Mitoses                      2.602510  1.065315          2.362969\n",
        "\n",
        "        - Top-4 Ranked by Squared Difference: ['Bare_nuclei', 'Uniformity_of_cell_size', 'Uniformity_of_cell_shape', 'Normal_nucleoli']\n",
        "\n",
        "        - Top-4 With Spearman Correlation: ['Uniformity_of_cell_size', 'Uniformity_of_cell_shape', 'Bare_nuclei', 'Single_epithelial_cell_size']\n",
        "\n",
        "        - Top features associated with the target variable: ['Bare_nuclei', 'Uniformity_of_cell_shape', 'Uniformity_of_cell_size']\n",
        "    \n",
        "    - ---------------------------- NHANES Dataset Statistics ----------------------------\n",
        "\n",
        "                                 Senior       Adult       mean_square_diff\n",
        "                Age             73.425824   35.780564       1417.165594\n",
        "                Oral           141.208791  109.990596        974.575736\n",
        "                Glucose        104.329670   98.644723         32.318625\n",
        "                Blood Insulin   10.405247   12.106661          2.894810\n",
        "                age_group        1.000000    0.000000          1.000000\n",
        "                Activness        1.909341    1.806165          0.010645\n",
        "                BMI             27.886264   27.968286          0.006728\n",
        "                Diabetic         2.027473    2.014107          0.000179\n",
        "                Gender           1.508242    1.512017          0.000014\n",
        "    \n",
        "        - Top-4 Ranked by Squared Difference: ['Age', 'Oral', 'Glucose', 'Blood Insulin']\n",
        "    \n",
        "        - Top-4 With Spearman Correlation: ['Age', 'Oral', 'Glucose', 'Activness']\n",
        "    \n",
        "        - Top features associated with the target variable: ['Oral', 'Age', 'Glucose']\n"
      ]
    },
    {
      "cell_type": "markdown",
      "metadata": {
        "id": "2vYM5SME_jPx"
      },
      "source": [
        "# KNN Implementation"
      ]
    },
    {
      "cell_type": "code",
      "execution_count": null,
      "metadata": {
        "id": "y0SwlfL1_m5S"
      },
      "outputs": [],
      "source": [
        "class Comp551_KNN:\n",
        "    def __init__(self, distance_metric_name = 'euclidean') -> None:\n",
        "        self.distance_metric_name = distance_metric_name\n",
        "\n",
        "    def fit(self, X: np.array, y: np.array, n_neighbors: int=10) -> None:\n",
        "        self.training_data = X\n",
        "        self.training_labels = y\n",
        "        self.n_neighbors = n_neighbors\n",
        "\n",
        "    def _predict(self, x: np.array) -> int:\n",
        "        # compute the distances of the new point to the training data\n",
        "        distances = [self.distance(x, training_point) for training_point in self.training_data]\n",
        "        # use the distance to get the top-k neighbors\n",
        "        top_k_neighbors = np.argsort(distances)[:self.n_neighbors]\n",
        "        # get the labels of the neighbors\n",
        "        top_k_labels = [self.training_labels[index] for index in top_k_neighbors]\n",
        "        # now we need to get the most common one\n",
        "        # let us get first the unique classes\n",
        "        unique_classes = list(set(top_k_labels))\n",
        "        # then we can get the count\n",
        "        unique_classes_count = {class_: top_k_labels.count(class_) for class_ in unique_classes}\n",
        "        # now let's sort it and have the class with highest frequency\n",
        "        sorted_unique_classes_count = dict(sorted(unique_classes_count.items(),\n",
        "                                                  key=lambda item: item[1], reverse=True))\n",
        "        # best label\n",
        "        sample_class = list(sorted_unique_classes_count.keys())[0]\n",
        "        return sample_class\n",
        "\n",
        "    def _predict_proba(self, x: np.array, dataset_name: str) -> int:\n",
        "        # compute the distances of the new point to the training data\n",
        "        distances = [self.distance(x, training_point) for training_point in self.training_data]\n",
        "        # use the distance to get the top-k neighbors\n",
        "        top_k_neighbors = np.argsort(distances)[:self.n_neighbors]\n",
        "        # get the labels of the neighbors\n",
        "        top_k_labels = [self.training_labels[index] for index in top_k_neighbors]\n",
        "        # now we need to get the most common one\n",
        "        # let us get first the unique classes\n",
        "        unique_classes = list(set(top_k_labels))\n",
        "        # then we can get the count\n",
        "        unique_classes_count = {class_: top_k_labels.count(class_) for class_ in unique_classes}\n",
        "\n",
        "        # best label proba\n",
        "        if dataset_name == 'BREAST':\n",
        "            class_dict = {2: 0, 4: 0}\n",
        "        else:\n",
        "            class_dict = {0: 0, 1: 0}\n",
        "\n",
        "        for class_dataset in list(class_dict.keys()):\n",
        "            try:\n",
        "                class_dict[class_dataset] = unique_classes_count[class_dataset]/len(top_k_labels)\n",
        "            except:\n",
        "                pass\n",
        "        return list(class_dict.values())\n",
        "\n",
        "    def predict(self, X: np.array) -> np.array:\n",
        "        preds = [self._predict(x) for x in X]\n",
        "        return np.array(preds)\n",
        "\n",
        "    def predict_proba(self, X: np.array, dataset_name: str) -> np.array:\n",
        "        preds = [self._predict_proba(x, dataset_name) for x in X]\n",
        "        return np.array(preds)\n",
        "\n",
        "    def euclidean(self, xi: np.array, xj: np.array) -> float:\n",
        "        return np.sqrt(np.sum((xi - xj) ** 2))\n",
        "\n",
        "    def cosine_similarity(self, xi: np.array, xj: np.array) -> float:\n",
        "        return dot(xi, xj) / (norm(xi) * norm(xj))\n",
        "\n",
        "    def manhattan_distance(self, xi: np.array, xj: np.array) -> float:\n",
        "        return np.sum(np.abs(xi - xj))\n",
        "\n",
        "    def distance(self, xi: np.array, xj: np.array) -> float:\n",
        "        if self.distance_metric_name == 'euclidean':\n",
        "            return self.euclidean(xi, xj)\n",
        "\n",
        "        if self.distance_metric_name == 'cosine':\n",
        "            return self.cosine_similarity(xi, xj)\n",
        "\n",
        "        if self.distance_metric_name == 'manhattan':\n",
        "            return self.manhattan_distance(xi, xj)\n",
        "\n",
        "    def evaluate_acc(self, true, predictions):\n",
        "        return np.mean(true == predictions)"
      ]
    },
    {
      "cell_type": "markdown",
      "metadata": {
        "id": "quuQG7HaAPEV"
      },
      "source": [
        "# KNN Experiments"
      ]
    },
    {
      "cell_type": "markdown",
      "metadata": {
        "id": "S2Now24PCWOn"
      },
      "source": [
        "# Experiments: Feature Importance and Impact on Performance\n",
        "    \n",
        "  - Experiments (NHANES)\n",
        "\n",
        "Model | accuracy with all features | accuracy with top-3 features\n",
        "--- | --- | ---\n",
        "`Decision Tree` | 1.0 | **1.0**\n",
        "`KNN` | 0.9672 | **0.9803**\n",
        "\n",
        "  - Experiments (BREAST CANCER)\n",
        "\n",
        "Model | accuracy with all features | accuracy with top-3 features |\n",
        "--- | --- | --- |\n",
        "`Decision Tree` | 0.9111 | **0.9333** |\n",
        "`KNN` | 0.9556 | **0.9666** |\n",
        "\n",
        "Overall, it is obvious that using top-3 features give best results, on both models. Moving on next, we will stick to those 3 features. Those feature were selected as follow:\n",
        "\n",
        "  - Compute the square difference between both classes for all features, and select the top-k (k==4)\n",
        "  - Compute the Spearman Rank Correlation between all features and the target variable. Then, select the top-k (k==4)\n",
        "  - The final set of features used is the intersection of features of the two steps described above"
      ]
    },
    {
      "cell_type": "markdown",
      "metadata": {
        "id": "JyP0l__9BCSC"
      },
      "source": [
        "# Experiments: Data Splitting and Saving"
      ]
    },
    {
      "cell_type": "code",
      "execution_count": null,
      "metadata": {
        "id": "wNlXLNy4BDwr"
      },
      "outputs": [],
      "source": [
        "breast_dataset = pd.read_csv('processed_{}_data_top_{}_features.csv'.format('BREAST', 3))\n",
        "nhanes_dataset = pd.read_csv('processed_{}_data_top_{}_features.csv'.format('NHANES', 3))\n",
        "\n",
        "def create_dataset_split(dataset: pd.DataFrame, create_val: bool = False) -> Tuple:\n",
        "    train, test = train_test_split(dataset, test_size=0.2, random_state=42)\n",
        "    if create_val:\n",
        "        train, val = train_test_split(train, test_size=0.2, random_state=42)\n",
        "        return train, val, test\n",
        "    else:\n",
        "        return train, test\n",
        "\n",
        "breast_train, breast_test = create_dataset_split(breast_dataset)\n",
        "nhanes_train, nhanes_test = create_dataset_split(nhanes_dataset)\n",
        "\n",
        "breast_train.to_csv('breast_train.csv', index=False)\n",
        "breast_test.to_csv('breast_test.csv', index=False)\n",
        "\n",
        "nhanes_train.to_csv('nhanes_train.csv', index=False)\n",
        "nhanes_test.to_csv('nhanes_test.csv', index=False)\n",
        "\n",
        "knn_breast = Comp551_KNN()\n",
        "knn_nhanes = Comp551_KNN()\n",
        "\n",
        "train_target_breast = breast_train['Class'].values\n",
        "train_breast_features = breast_train.drop(columns=['Class']).values\n",
        "\n",
        "train_target_nhanes = nhanes_train['age_group'].values\n",
        "train_nhanes_features = nhanes_train.drop(columns=['age_group']).values\n",
        "\n",
        "test_target_breast = breast_test['Class'].values\n",
        "test_breast_features = breast_test.drop(columns=['Class']).values\n",
        "\n",
        "test_target_nhanes = nhanes_test['age_group'].values\n",
        "test_nhanes_features = nhanes_test.drop(columns=['age_group']).values"
      ]
    },
    {
      "cell_type": "markdown",
      "metadata": {
        "id": "Vorer2GnBX2f"
      },
      "source": [
        "# Experiments: Importance of `k` hyperparameters"
      ]
    },
    {
      "cell_type": "code",
      "execution_count": null,
      "metadata": {
        "colab": {
          "base_uri": "https://localhost:8080/"
        },
        "id": "Oj7CE8IwBqcf",
        "outputId": "f95ba832-ccea-4a5c-d2ec-aa5e13337b06"
      },
      "outputs": [
        {
          "output_type": "stream",
          "name": "stdout",
          "text": [
            "10 - Breast KNN Accuracy: 0.9666666666666667\n",
            "10 - Breast AUC ROC: 0.9957690393230464\n",
            "10 - NHANES KNN Accuracy: 0.9802631578947368\n",
            "10 - NHANES AUC ROC: 0.9974175746427056\n",
            "20 - Breast KNN Accuracy: 0.9666666666666667\n",
            "20 - Breast AUC ROC: 0.9967645594823296\n",
            "20 - NHANES KNN Accuracy: 0.9736842105263158\n",
            "20 - NHANES AUC ROC: 0.9963739917928399\n",
            "30 - Breast KNN Accuracy: 0.9555555555555556\n",
            "30 - Breast AUC ROC: 0.9977600796416126\n",
            "30 - NHANES KNN Accuracy: 0.9692982456140351\n",
            "30 - NHANES AUC ROC: 0.9954365360124522\n",
            "40 - Breast KNN Accuracy: 0.9444444444444444\n",
            "40 - Breast AUC ROC: 0.9975111996017919\n",
            "40 - NHANES KNN Accuracy: 0.9714912280701754\n",
            "40 - NHANES AUC ROC: 0.9947997735955851\n",
            "50 - Breast KNN Accuracy: 0.9444444444444444\n",
            "50 - Breast AUC ROC: 0.9975111996017919\n",
            "50 - NHANES KNN Accuracy: 0.9692982456140351\n",
            "50 - NHANES AUC ROC: 0.993384746002547\n",
            "60 - Breast KNN Accuracy: 0.9333333333333333\n",
            "60 - Breast AUC ROC: 0.9975111996017919\n",
            "60 - NHANES KNN Accuracy: 0.9714912280701754\n",
            "60 - NHANES AUC ROC: 0.992677232206028\n",
            "70 - Breast KNN Accuracy: 0.9444444444444444\n",
            "70 - Breast AUC ROC: 0.9975111996017919\n",
            "70 - NHANES KNN Accuracy: 0.9671052631578947\n",
            "70 - NHANES AUC ROC: 0.9920935333238998\n",
            "80 - Breast KNN Accuracy: 0.9333333333333333\n",
            "80 - Breast AUC ROC: 0.9977600796416127\n",
            "80 - NHANES KNN Accuracy: 0.9671052631578947\n",
            "80 - NHANES AUC ROC: 0.9920581576340739\n",
            "90 - Breast KNN Accuracy: 0.9333333333333333\n",
            "90 - Breast AUC ROC: 0.9975111996017919\n",
            "90 - NHANES KNN Accuracy: 0.9627192982456141\n",
            "90 - NHANES AUC ROC: 0.991952030564596\n",
            "100 - Breast KNN Accuracy: 0.9333333333333333\n",
            "100 - Breast AUC ROC: 0.9975111996017919\n",
            "100 - NHANES KNN Accuracy: 0.9627192982456141\n",
            "100 - NHANES AUC ROC: 0.9916159615112494\n",
            "     k  acc_nhanes  acc_breast  auc_nhanes  auc_breast\n",
            "0   10    0.980263    0.966667    0.997418    0.995769\n",
            "1   20    0.973684    0.966667    0.996374    0.996765\n",
            "2   30    0.969298    0.955556    0.995437    0.997760\n",
            "3   40    0.971491    0.944444    0.994800    0.997511\n",
            "4   50    0.969298    0.944444    0.993385    0.997511\n",
            "5   60    0.971491    0.933333    0.992677    0.997511\n",
            "6   70    0.967105    0.944444    0.992094    0.997511\n",
            "7   80    0.967105    0.933333    0.992058    0.997760\n",
            "8   90    0.962719    0.933333    0.991952    0.997511\n",
            "9  100    0.962719    0.933333    0.991616    0.997511\n"
          ]
        }
      ],
      "source": [
        "ks = []\n",
        "accs_breast = []\n",
        "accs_nhanes = []\n",
        "aucs_breast = []\n",
        "aucs_nhanes = []\n",
        "\n",
        "for k in range(10, 110, 10):\n",
        "\n",
        "    ks.append(k)\n",
        "\n",
        "    knn_breast.fit(train_breast_features, train_target_breast, n_neighbors=k)\n",
        "    breast_pred = knn_breast.predict(test_breast_features)\n",
        "    breast_pred_proba = knn_breast.predict_proba(test_breast_features, 'BREAST')\n",
        "    knn_breat_acc = knn_breast.evaluate_acc(test_target_breast, breast_pred)\n",
        "\n",
        "    accs_breast.append(knn_breat_acc)\n",
        "\n",
        "    fpr, tpr, thresholds = roc_curve(test_target_breast, breast_pred_proba[:, 1], pos_label=4)\n",
        "    roc_auc = auc(fpr, tpr)\n",
        "    print('{} - Breast KNN Accuracy: {}'.format(k, knn_breat_acc))\n",
        "    print('{} - Breast AUC ROC: {}'.format(k, roc_auc))\n",
        "\n",
        "    aucs_breast.append(roc_auc)\n",
        "\n",
        "    knn_nhanes.fit(train_nhanes_features, train_target_nhanes, n_neighbors=k)\n",
        "    nhanes_pred = knn_nhanes.predict(test_nhanes_features)\n",
        "    knn_nhanes_acc = knn_nhanes.evaluate_acc(test_target_nhanes, nhanes_pred)\n",
        "\n",
        "    accs_nhanes.append(knn_nhanes_acc)\n",
        "    nhanes_pred_proba = knn_nhanes.predict_proba(test_nhanes_features, 'NHANES')\n",
        "    fpr_nhanes, tpr_nhanes, thresholds_nhanes = roc_curve(test_target_nhanes, nhanes_pred_proba[:, 1], pos_label=1)\n",
        "    roc_auc_nhanes = auc(fpr_nhanes, tpr_nhanes)\n",
        "\n",
        "    aucs_nhanes.append(roc_auc_nhanes)\n",
        "\n",
        "    print('{} - NHANES KNN Accuracy: {}'.format(k, knn_nhanes_acc))\n",
        "    print('{} - NHANES AUC ROC: {}'.format(k, roc_auc_nhanes))\n",
        "\n",
        "saving = pd.DataFrame()\n",
        "\n",
        "saving['k'] = ks\n",
        "saving['acc_nhanes'] = accs_nhanes\n",
        "saving['acc_breast'] = accs_breast\n",
        "saving['auc_nhanes'] = aucs_nhanes\n",
        "saving['auc_breast'] = aucs_breast\n",
        "\n",
        "print(saving)\n",
        "saving.to_csv('knn_experiments_results.csv', index=False)"
      ]
    },
    {
      "cell_type": "markdown",
      "metadata": {
        "id": "BiMHVNS7EilP"
      },
      "source": [
        "# Experiments: Evaluation of different values of `k` hyperparameter for `KNN`\n",
        "\n",
        "k | acc_nhanes | auc_nhanes | acc_breast | auc_breast\n",
        "--- | --- | --- | --- | ---\n",
        "    `10` | 0.980263 | 0.997418 | 0.966667 | 0.995769 |\n",
        "    `20` | 0.973684 | 0.996374 | 0.966667 | 0.996765 |\n",
        "    `30` | 0.969298 | 0.995437 | 0.955556 | 0.997760 |\n",
        "    `40` | 0.971491 | 0.994800 | 0.944444 | 0.997511 |\n",
        "    `50` | 0.969298 | 0.993385 | 0.944444 | 0.997511 |\n",
        "    `60` | 0.971491 | 0.992677 | 0.933333 | 0.997511 |\n",
        "    `70` | 0.967105 | 0.992094 | 0.944444 | 0.997511 |\n",
        "    `80` | 0.967105 | 0.992058 | 0.933333 | 0.997760 |\n",
        "    `90` | 0.980263 | 0.991952 | 0.933333 | 0.997511 |\n",
        "    `100` | 0.980263 | 0.991616 | 0.933333 | 0.997511 |\n",
        "\n",
        "We decided to stick to AUC to select the optimal `k`. This is because AUC is better when the problem is imbalanced (which is the case here). Given this, AUC is also more robust to changes in the threshold, and can capture the model's performance across the entire range of probabilities. Finally, AUC is also be useful when the cost of false positives and false negatives are different, and need to be balanced. Overall, AUC will allow to select models that achieve false positive and true positive rates that are significantly above random chance, which is not guaranteed for accuracy. Consequently, for `NHANES` and `BREAST CANCER` datasets, the chosen best `k` values are respectively `k=10` and `k=30`. To compute the `AUCROC`, since we need the probablities of the positive class, we have implemented and used the `predict_proba` function. These metrics are computed using the `euclidean` distance function. In the `KNN` class, we have also implemented the `cosine similarity` and the `manhattan distance`.\n"
      ]
    },
    {
      "cell_type": "markdown",
      "metadata": {
        "id": "eB_Lq3h0CJ_q"
      },
      "source": [
        "# Experiments: Importance of Distance Funtion"
      ]
    },
    {
      "cell_type": "code",
      "execution_count": null,
      "metadata": {
        "id": "OMIm4BAvCHoX",
        "colab": {
          "base_uri": "https://localhost:8080/"
        },
        "outputId": "d24cb33b-d764-44fb-919d-62043d296b72"
      },
      "outputs": [
        {
          "output_type": "stream",
          "name": "stdout",
          "text": [
            "cosine - Breast KNN Accuracy: 0.36666666666666664\n",
            "cosine - Breast AUC ROC: 0.2986560477849677\n",
            "cosine - NHANES KNN Accuracy: 0.7214912280701754\n",
            "cosine - NHANES AUC ROC: 0.0763761143342295\n",
            "manhattan - Breast KNN Accuracy: 0.9444444444444444\n",
            "manhattan - Breast AUC ROC: 0.997511199601792\n",
            "manhattan - NHANES KNN Accuracy: 0.9824561403508771\n",
            "manhattan - NHANES AUC ROC: 0.9983196547332673\n",
            "     metrics  acc_nhanes  acc_breast  auc_nhanes  auc_breast\n",
            "0  euclidean    0.980263    0.955556    0.997418    0.997760\n",
            "1     cosine    0.721491    0.366667    0.076376    0.298656\n",
            "2  manhattan    0.982456    0.944444    0.998320    0.997511\n"
          ]
        }
      ],
      "source": [
        "# Breast Cancer & NHANES Cost Function Evaluation\n",
        "\n",
        "metrics = ['euclidean']\n",
        "accs_breast = [0.955556]\n",
        "aucs_breast = [0.997760]\n",
        "\n",
        "accs_nhanes = [0.980263]\n",
        "aucs_nhanes = [0.997418]\n",
        "\n",
        "for metric in ['cosine', 'manhattan']:\n",
        "\n",
        "    metrics.append(metric)\n",
        "    knn_breast = Comp551_KNN(distance_metric_name=metric)\n",
        "\n",
        "    knn_breast.fit(train_breast_features, train_target_breast, n_neighbors=30)\n",
        "    breast_pred = knn_breast.predict(test_breast_features)\n",
        "    breast_pred_proba = knn_breast.predict_proba(test_breast_features, 'BREAST')\n",
        "    knn_breat_acc = knn_breast.evaluate_acc(test_target_breast, breast_pred)\n",
        "\n",
        "    accs_breast.append(knn_breat_acc)\n",
        "\n",
        "    fpr, tpr, thresholds = roc_curve(test_target_breast, breast_pred_proba[:, 1], pos_label=4)\n",
        "    roc_auc = auc(fpr, tpr)\n",
        "    print('{} - Breast KNN Accuracy: {}'.format(metric, knn_breat_acc))\n",
        "    print('{} - Breast AUC ROC: {}'.format(metric, roc_auc))\n",
        "\n",
        "    aucs_breast.append(roc_auc)\n",
        "\n",
        "    knn_nhanes = Comp551_KNN(distance_metric_name=metric)\n",
        "\n",
        "    knn_nhanes.fit(train_nhanes_features, train_target_nhanes, n_neighbors=10)\n",
        "    nhanes_pred = knn_nhanes.predict(test_nhanes_features)\n",
        "    knn_nhanes_acc = knn_nhanes.evaluate_acc(test_target_nhanes, nhanes_pred)\n",
        "\n",
        "    accs_nhanes.append(knn_nhanes_acc)\n",
        "    nhanes_pred_proba = knn_nhanes.predict_proba(test_nhanes_features, 'NHANES')\n",
        "    fpr_nhanes, tpr_nhanes, thresholds_nhanes = roc_curve(test_target_nhanes, nhanes_pred_proba[:, 1], pos_label=1)\n",
        "    roc_auc_nhanes = auc(fpr_nhanes, tpr_nhanes)\n",
        "\n",
        "    aucs_nhanes.append(roc_auc_nhanes)\n",
        "\n",
        "    print('{} - NHANES KNN Accuracy: {}'.format(metric, knn_nhanes_acc))\n",
        "    print('{} - NHANES AUC ROC: {}'.format(metric, roc_auc_nhanes))\n",
        "\n",
        "saving = pd.DataFrame()\n",
        "\n",
        "saving['metrics'] = metrics\n",
        "saving['acc_nhanes'] = accs_nhanes\n",
        "saving['acc_breast'] = accs_breast\n",
        "saving['auc_nhanes'] = aucs_nhanes\n",
        "saving['auc_breast'] = aucs_breast\n",
        "\n",
        "print(saving)\n",
        "saving.to_csv('knn_metrics_experiments_results.csv', index=False)"
      ]
    },
    {
      "cell_type": "markdown",
      "metadata": {
        "id": "QlyIA8klIEkD"
      },
      "source": [
        "# Experiments: KNN Comparison of Several Distance Functions with the Best Hyperparameters.\n",
        "\n",
        "  * NHANES Results\n",
        "    \n",
        "Model | Euclidean Distance | Cosine Similarity | Manhattan Distance |\n",
        "--- |:---: | :---: | :---: |\n",
        "`Accuracy` | 0.980263 | 0.721491 | **0.982456** |\n",
        "`AUCROC` | 0.997418 | 0.076376 | **0.998320** |\n",
        "\n",
        "  * BREAST CANCER Results\n",
        "    \n",
        "Model | Euclidean Distance | Cosine Similarity | Manhattan Distance |\n",
        "---: |:---: | :---: | :---: |\n",
        "`Accuracy` | **0.955556** | 0.366667 | 0.944444 |\n",
        "`AUCROC` | **0.997760** | 0.298656 | 0.997511 |\n",
        "\n",
        "We can see that in the case of `NHANES`, the `manhattan distance` works better than the `euclidean distance`. Following might be possible reasons:\n",
        "\n",
        "  * When the data is high-dimensional, Manhattan distance can better capture the similarity between points than Euclidean distance ([Source](https://datascience.stackexchange.com/questions/20075/when-would-one-use-manhattan-distance-as-opposed-to-euclidean-distance))\n",
        "\n",
        "  * When the data has different scales or units, Manhattan distance can be more robust to outliers or irrelevant features than Euclidean distance ([Source](https://machinelearningmastery.com/distance-measures-for-machine-learning/))\n",
        "\n",
        "  * When the data is discrete or categorical, Manhattan distance can be more appropriate than Euclidean distance, which assumes a continuous space ([Source](https://worldnewlive.com/what-is-manhattan-distance-and-euclidean-distance/))\n",
        "\n",
        "  * `Manhattan distance` uses the L1 Norm which encourages sparsity while `Euclidean Distance` uses the L2 norm.\n",
        "\n",
        "  * `Manhattan distance` works better input variables are not similar in type (e.g. in `NHANES` they are `Glucose, Oral, and Age` which are high-likely unrelated vs in `BREAST` they are `Bare_nuclei, Uniformity_of_cell_size, and Uniformity_of_cell_shape` which are very likely to be related). Morever, due to the curse of dimensionality, Euclidean distance becomes a poor choice as the number of dimensions increases. This is confirmed by this [MIT Lesson](https://www.youtube.com/watch?v=h0e2HAPTGF4) at 36:15 on the slides the following statement: `...Manhattan may be appropriate if different dimensions are not comparable...`\n",
        "\n",
        "For the remaining experiments, we have used the `Manhattan` and `Euclidean` distances, respectively for the `NHANES` and `BREAST CANCER` datasets\n"
      ]
    },
    {
      "cell_type": "code",
      "execution_count": null,
      "metadata": {
        "id": "gIVbcW-MHvnV",
        "colab": {
          "base_uri": "https://localhost:8080/"
        },
        "outputId": "f794f2fd-a228-42b2-b1d4-46bf15bfe5df"
      },
      "outputs": [
        {
          "output_type": "stream",
          "name": "stdout",
          "text": [
            "    breast_predict  breast_predict_proba\n",
            "0                2              0.000000\n",
            "1                2              0.233333\n",
            "2                2              0.000000\n",
            "3                4              0.700000\n",
            "4                2              0.033333\n",
            "..             ...                   ...\n",
            "85               2              0.000000\n",
            "86               2              0.000000\n",
            "87               4              1.000000\n",
            "88               2              0.000000\n",
            "89               4              0.700000\n",
            "\n",
            "[90 rows x 2 columns]\n",
            "     nhanes_predict  nhanes_predict_proba\n",
            "0                 0                   0.0\n",
            "1                 0                   0.0\n",
            "2                 0                   0.0\n",
            "3                 0                   0.0\n",
            "4                 0                   0.3\n",
            "..              ...                   ...\n",
            "451               0                   0.4\n",
            "452               0                   0.0\n",
            "453               0                   0.1\n",
            "454               1                   0.9\n",
            "455               0                   0.0\n",
            "\n",
            "[456 rows x 2 columns]\n"
          ]
        }
      ],
      "source": [
        "# using best parameters and save the results\n",
        "\n",
        "knn_breast = Comp551_KNN()\n",
        "knn_breast.fit(train_breast_features, train_target_breast, n_neighbors=30)\n",
        "breast_pred = knn_breast.predict(test_breast_features)\n",
        "breast_pred_proba = knn_breast.predict_proba(test_breast_features, 'BREAST')\n",
        "\n",
        "# manhattan distance for NHANES\n",
        "knn_nhanes = Comp551_KNN(distance_metric_name='manhattan')\n",
        "knn_nhanes.fit(train_nhanes_features, train_target_nhanes, n_neighbors=10)\n",
        "nhanes_pred = knn_nhanes.predict(test_nhanes_features)\n",
        "nhanes_pred_proba = knn_nhanes.predict_proba(test_nhanes_features, 'NHANES')\n",
        "\n",
        "breat_predictions = pd.DataFrame()\n",
        "nhanes_predictions = pd.DataFrame()\n",
        "\n",
        "breat_predictions['breast_predict'] = breast_pred\n",
        "breat_predictions['breast_predict_proba'] = breast_pred_proba[:, 1] # we only need the positive class probabilities to compute the ROC\n",
        "breat_predictions.to_csv('breast_knn_experiments_best_hyperparameters_results.csv', index=False)\n",
        "print(breat_predictions)\n",
        "\n",
        "nhanes_predictions['nhanes_predict'] = nhanes_pred\n",
        "nhanes_predictions['nhanes_predict_proba'] = nhanes_pred_proba[:, 1]\n",
        "nhanes_predictions.to_csv('nhanes_knn_experiments_best_hyperparameters_results.csv', index=False)\n",
        "print(nhanes_predictions)"
      ]
    },
    {
      "cell_type": "markdown",
      "metadata": {
        "id": "K7aXMlJ4I3sW"
      },
      "source": [
        "# Experiments: Performing K-Fold Cross-Validation"
      ]
    },
    {
      "cell_type": "code",
      "execution_count": null,
      "metadata": {
        "id": "7Cxzjq8xKiEB"
      },
      "outputs": [],
      "source": [
        "def kfold_indices(data, k):\n",
        "    fold_size = len(data) // k\n",
        "    indices = np.arange(len(data))\n",
        "    folds = []\n",
        "    for i in range(k):\n",
        "        test_indices = indices[i * fold_size: (i + 1) * fold_size]\n",
        "        train_indices = np.concatenate([indices[:i * fold_size], indices[(i + 1) * fold_size:]])\n",
        "        folds.append((train_indices, test_indices))\n",
        "    return folds"
      ]
    },
    {
      "cell_type": "code",
      "execution_count": null,
      "metadata": {
        "id": "AQE4KJDTFfMf",
        "colab": {
          "base_uri": "https://localhost:8080/"
        },
        "outputId": "7ae2ab04-684b-4d0a-8fa3-e7ab8935e40f"
      },
      "outputs": [
        {
          "output_type": "stream",
          "name": "stdout",
          "text": [
            "(BREAST) 5 - Eval Mean Accuracy: 0.9154929577464789\n",
            "(BREAST) 5 - Eval Mean AUC: 0.9601626016260163\n",
            "(BREAST) 5 - Test Mean Accuracy: 0.9333333333333333\n",
            "(BREAST) 5 - Test Mean AUC: 0.9972623195619711\n",
            "(BREAST) 10 - Eval Mean Accuracy: 0.9142857142857143\n",
            "(BREAST) 10 - Eval Mean AUC: 1.0\n",
            "(BREAST) 10 - Test Mean Accuracy: 0.9444444444444444\n",
            "(BREAST) 10 - Test Mean AUC: 0.9972623195619711\n",
            "(BREAST) 15 - Eval Mean Accuracy: 0.9130434782608695\n",
            "(BREAST) 15 - Eval Mean AUC: 1.0\n",
            "(BREAST) 15 - Test Mean Accuracy: 0.9444444444444444\n",
            "(BREAST) 15 - Test Mean AUC: 0.9980089596814334\n",
            "(BREAST) 20 - Eval Mean Accuracy: 0.8823529411764706\n",
            "(BREAST) 20 - Eval Mean AUC: 1.0\n",
            "(BREAST) 20 - Test Mean Accuracy: 0.9444444444444444\n",
            "(BREAST) 20 - Test Mean AUC: 0.9980089596814335\n",
            "(NHANES) 5 - Eval Mean Accuracy: 0.971830985915493\n",
            "(NHANES) 5 - Eval Mean AUC: 0.9984848484848486\n",
            "(NHANES) 5 - Test Mean Accuracy: 0.9583333333333334\n",
            "(NHANES) 5 - Test Mean AUC: 0.9891042875336069\n",
            "(NHANES) 10 - Eval Mean Accuracy: 0.9714285714285714\n",
            "(NHANES) 10 - Eval Mean AUC: 0.9966666666666667\n",
            "(NHANES) 10 - Test Mean Accuracy: 0.9627192982456141\n",
            "(NHANES) 10 - Test Mean AUC: 0.9894757322767793\n",
            "(NHANES) 15 - Eval Mean Accuracy: 1.0\n",
            "(NHANES) 15 - Eval Mean AUC: 1.0\n",
            "(NHANES) 15 - Test Mean Accuracy: 0.9649122807017544\n",
            "(NHANES) 15 - Test Mean AUC: 0.9891396632234328\n",
            "(NHANES) 20 - Eval Mean Accuracy: 1.0\n",
            "(NHANES) 20 - Eval Mean AUC: 1.0\n",
            "(NHANES) 20 - Test Mean Accuracy: 0.9649122807017544\n",
            "(NHANES) 20 - Test Mean AUC: 0.9902716852978634\n"
          ]
        }
      ],
      "source": [
        "def perform_k_fold_cross_validation(model, train_data: Tuple, test_data: Tuple, dataset_name: str) -> None:\n",
        "    for k_fold in range(5, 25, 5):\n",
        "        fold_indices = kfold_indices(train_breast_features, k_fold)\n",
        "        # Iterate through each fold\n",
        "        auc_scores, auc_scores = [], []\n",
        "        pos_label = 4 if dataset_name == 'BREAST' else 1\n",
        "        n_neighbors = 30 if dataset_name == 'BREAST' else 10\n",
        "\n",
        "        for train_indices, test_indices in fold_indices:\n",
        "            X_train, y_train = train_data[0][train_indices], train_data[1][train_indices]\n",
        "            X_eval, y_eval = train_data[0][test_indices], train_data[1][test_indices]\n",
        "\n",
        "            # Train the model on the training data\n",
        "            model.fit(X_train, y_train, n_neighbors=n_neighbors)\n",
        "\n",
        "            # Make predictions on the eval data\n",
        "            y_pred = model.predict(X_eval)\n",
        "            y_pred_proba = model.predict_proba(X_eval, dataset_name)\n",
        "\n",
        "            # Calculate the accuracy score for this fold\n",
        "            fold_score_acc = model.evaluate_acc(y_eval, y_pred)\n",
        "\n",
        "            # Calculate the auc score for this fold\n",
        "            fpr, tpr, thresholds = roc_curve(y_eval, y_pred_proba[:, 1], pos_label=pos_label)\n",
        "            roc_auc = auc(fpr, tpr)\n",
        "\n",
        "            # Append the fold score to the list of scores\n",
        "            auc_scores.append(fold_score_acc)\n",
        "            auc_scores.append(roc_auc)\n",
        "\n",
        "        # Calculate the mean accuracy across all folds\n",
        "        mean_accuracy = np.mean(fold_score_acc)\n",
        "        mean_auc = np.mean(roc_auc)\n",
        "\n",
        "        # Make predictions on the test data\n",
        "        y_pred_test = model.predict(test_data[0])\n",
        "        y_pred_proba_test = model.predict_proba(test_data[0], dataset_name)\n",
        "\n",
        "        # Calculate the accuracy score for this fold\n",
        "        test_acc = model.evaluate_acc(test_data[1], y_pred_test)\n",
        "\n",
        "        # Calculate the auc score for this fold\n",
        "        fpr_test, tpr_test, thresholds = roc_curve(test_data[1], y_pred_proba_test[:, 1], pos_label=pos_label)\n",
        "        test_auc = auc(fpr_test, tpr_test)\n",
        "\n",
        "        print(\"({}) {} - Eval Mean Accuracy: {}\".format(dataset_name, k_fold, mean_accuracy))\n",
        "        print(\"({}) {} - Eval Mean AUC: {}\".format(dataset_name, k_fold, mean_auc))\n",
        "\n",
        "        print(\"({}) {} - Test Mean Accuracy: {}\".format(dataset_name, k_fold, test_acc))\n",
        "        print(\"({}) {} - Test Mean AUC: {}\".format(dataset_name, k_fold, test_auc))\n",
        "\n",
        "knn_breast = Comp551_KNN()\n",
        "knn_nhanes = Comp551_KNN(distance_metric_name='manhattan')\n",
        "\n",
        "perform_k_fold_cross_validation (knn_breast, (train_breast_features, train_target_breast), (test_breast_features, test_target_breast), 'BREAST')\n",
        "perform_k_fold_cross_validation (knn_nhanes, (train_nhanes_features, train_target_nhanes), (test_nhanes_features, test_target_nhanes), 'NHANES')"
      ]
    },
    {
      "cell_type": "markdown",
      "metadata": {
        "id": "lw7_Oar7JAMa"
      },
      "source": [
        "# Experiments: Exploring Impact of K-Fold Cross Validation\n",
        "\n",
        "We implemented the k-fold cross validation technique and leveraged it important on final model's performance on the test set. Below are the results:\n",
        "\n",
        "  * BREAST CANCER Dataset\n",
        "\n",
        "Metrics | k=5 | k=10 | k=15 | k=20 |\n",
        "    :---: |:---: | :---: | :---: | :---: |\n",
        "    `Evaluation Accuracy` | 0.9155 | 0.9143 | **0.9130** | 0.8824 |\n",
        "    `Test Accuracy` | 0.9333 | 0.9444 | **0.9444** | 0.9444 |\n",
        "  --- | --- | --- | --- | --- |\n",
        "    `Evaluation AUC` | 0.9601 | 1.0 | **1.0** | 1.0 |\n",
        "    `Test AUC` | 0.9973 | 0.9973 | **0.9980** | 0.9980 |\n",
        "\n",
        "  \n",
        "  * NHANES Dataset\n",
        "  \n",
        "Metrics | k=5 | k=10 | k=15 | k=20 |\n",
        "    :---: |:---: | :---: | :---: | :---: |\n",
        "    `Evaluation Accuracy` | 0.9718 | 0.9714 | 1.0 | **1.0** |\n",
        "    `Test Accuracy` | 0.9583 | 0.9627 | 0.9649 | **0.9649** |\n",
        "    --- | --- | --- | --- | --- |\n",
        "    `Evaluation AUC` | 0.9985 | 0.9967 | 1.0 | **1.0** |\n",
        "    `Test AUC` | 0.9891 | 0.9895 | 0.9891 | **0.9903** |\n",
        "\n",
        "\n",
        "The `K-Fold` experiments show that cross-validation helps. However, compared to the best hyperparameters results, these new results are statistically insignificant (in the case of the `BREAST CANCER` dataset) and not better in the case of the `NHANES` dataset."
      ]
    },
    {
      "cell_type": "markdown",
      "metadata": {
        "id": "Qff9oJe2MEza"
      },
      "source": [
        "# Decision Tree Experiments\n"
      ]
    },
    {
      "cell_type": "markdown",
      "metadata": {
        "id": "s3w-rP8WiKaR"
      },
      "source": [
        "# Establish Variables:"
      ]
    },
    {
      "cell_type": "code",
      "execution_count": null,
      "metadata": {
        "id": "XCqvRRyumolt"
      },
      "outputs": [],
      "source": [
        "# Re-assign target values to 0, 1 (BREAST CANCER dataset only) and assign variables:\n",
        "\n",
        "breast_train['Class'].replace(4, 1, inplace=True)\n",
        "breast_train['Class'].replace(2, 0, inplace=True)\n",
        "\n",
        "breast_test['Class'].replace(4, 1, inplace=True)\n",
        "breast_test['Class'].replace(2, 0, inplace=True)\n",
        "\n",
        "x_train_breast = breast_train[['Bare_nuclei', 'Uniformity_of_cell_size', 'Uniformity_of_cell_shape']].to_numpy()\n",
        "x_test_breast = breast_test[['Bare_nuclei', 'Uniformity_of_cell_size', 'Uniformity_of_cell_shape']].to_numpy()\n",
        "\n",
        "y_train_breast = breast_train[['Class']].to_numpy().ravel()\n",
        "y_test_breast = breast_test[['Class']].to_numpy().ravel()\n",
        "\n",
        "# Assign variables NHANES:\n",
        "\n",
        "x_train_nhanes = nhanes_train[['Glucose', 'Oral', 'Age']].to_numpy()\n",
        "x_test_nhanes = nhanes_test[['Glucose', 'Oral', 'Age']].to_numpy()\n",
        "\n",
        "y_train_nhanes = nhanes_train[['age_group']].to_numpy().ravel()\n",
        "y_test_nhanes = nhanes_test[['age_group']].to_numpy().ravel()"
      ]
    },
    {
      "cell_type": "markdown",
      "metadata": {
        "id": "w4HEvIAeiR07"
      },
      "source": [
        "# Build Decision Tree:"
      ]
    },
    {
      "cell_type": "code",
      "execution_count": null,
      "metadata": {
        "id": "M-eEi3WWvmrs"
      },
      "outputs": [],
      "source": [
        "class Node:\n",
        "    def __init__(self, data_indices, parent):\n",
        "        self.data_indices = data_indices                    #stores the data indices which are in the region defined by this node\n",
        "        self.left = None                                    #stores the left child of the node\n",
        "        self.right = None                                   #stores the right child of the node\n",
        "        self.split_feature = None                           #the feature for split at this node\n",
        "        self.split_value = None                             #the value of the feature for split at this node\n",
        "        if parent:\n",
        "            self.depth = parent.depth + 1                   #obtain the dept of the node by adding one to dept of the parent\n",
        "            self.num_classes = parent.num_classes           #copies the num classes from the parent\n",
        "            self.data = parent.data                         #copies the data from the parent\n",
        "            self.labels = parent.labels                     #copies the labels from the parent\n",
        "            class_prob = np.bincount(self.labels[data_indices], minlength=self.num_classes) #this is counting frequency of different labels in the region defined by this node\n",
        "            self.class_prob = class_prob / np.sum(class_prob)  #stores the class probability for the node"
      ]
    },
    {
      "cell_type": "code",
      "execution_count": null,
      "metadata": {
        "id": "BUDB7qx2vuSI"
      },
      "outputs": [],
      "source": [
        "def greedy_test(node, cost_fn):\n",
        "    #initialize the best parameter values\n",
        "    best_cost = np.inf\n",
        "    best_feature, best_value = None, None\n",
        "    num_instances, num_features = node.data.shape\n",
        "    #sort the features to get the test value candidates by taking the average of consecutive sorted feature values\n",
        "    data_sorted = np.sort(node.data[node.data_indices],axis=0)\n",
        "    test_candidates = (data_sorted[1:] + data_sorted[:-1]) / 2.\n",
        "    for f in range(num_features):\n",
        "        #stores the data corresponding to the f-th feature\n",
        "        data_f = node.data[node.data_indices, f]\n",
        "        for test in test_candidates[:,f]:\n",
        "            #Split the indices using the test value of f-th feature\n",
        "            left_indices = node.data_indices[data_f <= test]\n",
        "            right_indices = node.data_indices[data_f > test]\n",
        "            #we can't have a split where a child has zero element\n",
        "            #if this is true over all the test features and their test values  then the function returns the best cost as infinity\n",
        "            if len(left_indices) == 0 or len(right_indices) == 0:\n",
        "                continue\n",
        "            #compute the left and right cost based on the current split\n",
        "            left_cost = cost_fn(node.labels[left_indices])\n",
        "            right_cost = cost_fn(node.labels[right_indices])\n",
        "            num_left, num_right = left_indices.shape[0], right_indices.shape[0]\n",
        "            #get the combined cost using the weighted sum of left and right cost\n",
        "            cost = (num_left * left_cost + num_right * right_cost)/num_instances\n",
        "            #update only when a lower cost is encountered\n",
        "            if cost < best_cost:\n",
        "                best_cost = cost\n",
        "                best_feature = f\n",
        "                best_value = test\n",
        "    return best_cost, best_feature, best_value"
      ]
    },
    {
      "cell_type": "code",
      "execution_count": null,
      "metadata": {
        "id": "w5sLEGj2vu7P"
      },
      "outputs": [],
      "source": [
        "#computes misclassification cost by subtracting the maximum probability of any class\n",
        "def cost_misclassification(labels):\n",
        "    counts = np.bincount(labels)\n",
        "    class_probs = counts / np.sum(counts)\n",
        "    #you could compress both the steps above by doing class_probs = np.bincount(labels) / len(labels)\n",
        "    return 1 - np.max(class_probs)\n",
        "\n",
        "#computes entropy of the labels by computing the class probabilities\n",
        "def cost_entropy(labels):\n",
        "    class_probs = np.bincount(labels) / len(labels)\n",
        "    class_probs = class_probs[class_probs > 0]              #this steps is remove 0 probabilities for removing numerical issues while computing log\n",
        "    return -np.sum(class_probs * np.log2(class_probs))       #expression for entropy -\\sigma p(x)log[p(x)]\n",
        "\n",
        "#computes the gini index cost\n",
        "def cost_gini_index(labels):\n",
        "    class_probs = np.bincount(labels) / len(labels)\n",
        "    return 1 - np.sum(np.square(class_probs))               #expression for gini index 1-\\sigma p(x)^2"
      ]
    },
    {
      "cell_type": "code",
      "execution_count": null,
      "metadata": {
        "id": "MK6mkb-wcu2k"
      },
      "outputs": [],
      "source": [
        "class DecisionTree:\n",
        "    def __init__(self, num_classes=None, max_depth=3, cost_fn=cost_gini_index, min_leaf_instances=1):\n",
        "        self.max_depth = max_depth      #maximum dept for termination\n",
        "        self.root = None                #stores the root of the decision tree\n",
        "        self.cost_fn = cost_fn          #stores the cost function of the decision tree\n",
        "        self.num_classes = num_classes  #stores the total number of classes\n",
        "        self.min_leaf_instances = min_leaf_instances  #minimum number of instances in a leaf for termination\n",
        "        # self.feature_importance = np.zeros(num_features)   #Add feature_importance to DecisionTree class\n",
        "\n",
        "    def fit(self, data, labels):\n",
        "        pass                            #pass in python 3 means nothing happens and the method here is empty\n",
        "\n",
        "    def predict(self, data_test):\n",
        "        pass"
      ]
    },
    {
      "cell_type": "code",
      "execution_count": null,
      "metadata": {
        "id": "wr7mqawqk-hT"
      },
      "outputs": [],
      "source": [
        "def fit(self, data, labels):\n",
        "    self.data = data\n",
        "    self.labels = labels\n",
        "    if self.num_classes is None:\n",
        "        self.num_classes = np.max(labels) + 1\n",
        "    #below are initialization of the root of the decision tree\n",
        "    self.root = Node(np.arange(data.shape[0]), None)\n",
        "    self.root.data = data\n",
        "    self.root.labels = labels\n",
        "    self.root.num_classes = self.num_classes\n",
        "    self.root.depth = 0\n",
        "    #to recursively build the rest of the tree\n",
        "    self._fit_tree(self.root)\n",
        "    return self\n",
        "\n",
        "def _fit_tree(self, node):\n",
        "    #This gives the condition for termination of the recursion resulting in a leaf node\n",
        "    if node.depth == self.max_depth or len(node.data_indices) <= self.min_leaf_instances:\n",
        "        return\n",
        "    #greedily select the best test by minimizing the cost\n",
        "    cost, split_feature, split_value = greedy_test(node, self.cost_fn)\n",
        "    #if the cost returned is infinity it means that it is not possible to split the node and hence terminate\n",
        "    if np.isinf(cost):\n",
        "        return\n",
        "    #print(f'best feature: {split_feature}, value {split_value}, cost {cost}')\n",
        "    #to get a boolean array suggesting which data indices corresponding to this node are in the left of the split\n",
        "    test = node.data[node.data_indices,split_feature] <= split_value\n",
        "    #store the split feature and value of the node\n",
        "    node.split_feature = split_feature\n",
        "    node.split_value = split_value\n",
        "    #define new nodes which are going to be the left and right child of the present node\n",
        "    left = Node(node.data_indices[test], node)\n",
        "    right = Node(node.data_indices[np.logical_not(test)], node)\n",
        "    #recursive call to the _fit_tree()\n",
        "    self._fit_tree(left)\n",
        "    self._fit_tree(right)\n",
        "    #assign the left and right child to present child\n",
        "    node.left = left\n",
        "    node.right = right\n",
        "    # self.feature_importance[node.split_feature] += node.data_indices.shape[0] * cost\n",
        "\n",
        "DecisionTree.fit = fit\n",
        "DecisionTree._fit_tree = _fit_tree"
      ]
    },
    {
      "cell_type": "code",
      "execution_count": null,
      "metadata": {
        "id": "DbTz9hnnwsEa"
      },
      "outputs": [],
      "source": [
        "def predict(self, data_test):\n",
        "    class_probs = np.zeros((data_test.shape[0], self.num_classes))\n",
        "    for n, x in enumerate(data_test):\n",
        "        node = self.root\n",
        "        #loop along the dept of the tree looking region where the present data sample fall in based on the split feature and value\n",
        "        while node.left:\n",
        "            if x[node.split_feature] <= node.split_value:\n",
        "                node = node.left\n",
        "            else:\n",
        "                node = node.right\n",
        "        #the loop terminates when you reach a leaf of the tree and the class probability of that node is taken for prediction\n",
        "        class_probs[n,:] = node.class_prob\n",
        "    return class_probs\n",
        "\n",
        "DecisionTree.predict = predict"
      ]
    },
    {
      "cell_type": "markdown",
      "metadata": {
        "id": "U9W5sAlShsMF"
      },
      "source": [
        "# BREAST CANCER Experiments:"
      ]
    },
    {
      "cell_type": "code",
      "execution_count": null,
      "metadata": {
        "id": "sA5xotssw01M",
        "colab": {
          "base_uri": "https://localhost:8080/"
        },
        "outputId": "20fd9dfb-232d-40eb-a173-42c94576a9e6"
      },
      "outputs": [
        {
          "output_type": "stream",
          "name": "stdout",
          "text": [
            "Top 3 Features:\n",
            "                     Accuracy\n",
            "Misclassification  95.555556\n",
            "Gini Index         95.555556\n",
            "Entropy            93.333333\n"
          ]
        }
      ],
      "source": [
        "# Accuracy at best tree depth:\n",
        "\n",
        "misclassification_tree = DecisionTree(max_depth=4, cost_fn=cost_misclassification)\n",
        "gini_tree = DecisionTree(max_depth=4, cost_fn=cost_gini_index)\n",
        "entropy_tree = DecisionTree(max_depth=4, cost_fn=cost_entropy)\n",
        "\n",
        "probs_test = misclassification_tree.fit(x_train_breast, y_train_breast).predict(x_test_breast)\n",
        "y_pred = np.argmax(probs_test,1)\n",
        "m_accuracy = np.sum(y_pred == y_test_breast)/y_test_breast.shape[0]\n",
        "\n",
        "probs_test = gini_tree.fit(x_train_breast, y_train_breast).predict(x_test_breast)\n",
        "y_pred = np.argmax(probs_test,1)\n",
        "g_accuracy = np.sum(y_pred == y_test_breast)/y_test_breast.shape[0]\n",
        "\n",
        "probs_test = entropy_tree.fit(x_train_breast, y_train_breast).predict(x_test_breast)\n",
        "y_pred = np.argmax(probs_test,1)\n",
        "e_accuracy = np.sum(y_pred == y_test_breast)/y_test_breast.shape[0]\n",
        "\n",
        "accuracy_values = {\"Accuracy\": [m_accuracy*100, g_accuracy*100, e_accuracy*100]}\n",
        "df_accuracy = pd.DataFrame(accuracy_values, index = [\"Misclassification\", \"Gini Index\", \"Entropy\"])\n",
        "print('Top 3 Features:\\n', df_accuracy)"
      ]
    },
    {
      "cell_type": "markdown",
      "metadata": {
        "id": "8zInMaQYnDre"
      },
      "source": [
        "# Training/Validation Split:"
      ]
    },
    {
      "cell_type": "code",
      "execution_count": null,
      "metadata": {
        "id": "PvD8_cG5nAew"
      },
      "outputs": [],
      "source": [
        "x_train_tr, y_train_tr = x_train_breast[:179], y_train_breast[:179]\n",
        "x_train_va, y_train_va = x_train_breast[179:], y_train_breast[179:]\n",
        "\n",
        "model_choices=[]\n",
        "train_acc = []\n",
        "valid_acc = []\n",
        "\n",
        "n_train = y_train_tr.shape[0]\n",
        "n_valid = y_train_va.shape[0]\n",
        "\n",
        "for k in range(1, 20):\n",
        "    dt = DecisionTree(max_depth=k)\n",
        "\n",
        "    y_train_tr_prob = dt.fit(x_train_tr, y_train_tr).predict(x_train_tr)\n",
        "    y_train_tr_pred = np.argmax(y_train_tr_prob, axis=-1)\n",
        "    acc_tr = np.sum(y_train_tr_pred == y_train_tr)/n_train\n",
        "\n",
        "    y_train_va_prob = dt.fit(x_train_tr, y_train_tr).predict(x_train_va)\n",
        "    y_train_va_pred = np.argmax(y_train_va_prob, axis=-1)\n",
        "    acc_va = np.sum(y_train_va_pred == y_train_va)/n_valid\n",
        "\n",
        "    model_choices.append(k)\n",
        "    train_acc.append(acc_tr)\n",
        "    valid_acc.append(acc_va)"
      ]
    },
    {
      "cell_type": "markdown",
      "metadata": {
        "id": "SqHo7SfzoJ__"
      },
      "source": [
        "# Example with best depth and best cost function (entropy):"
      ]
    },
    {
      "cell_type": "code",
      "execution_count": null,
      "metadata": {
        "id": "TXL9PZS10bLN",
        "colab": {
          "base_uri": "https://localhost:8080/",
          "height": 484
        },
        "outputId": "25ceec2a-3867-4952-cad7-178e709450df"
      },
      "outputs": [
        {
          "output_type": "stream",
          "name": "stdout",
          "text": [
            "BCW best depth = 4, BCW test accuracy = 0.9333333333333333\n"
          ]
        },
        {
          "output_type": "execute_result",
          "data": {
            "text/plain": [
              "<matplotlib.legend.Legend at 0x7b8c1a8ac6d0>"
            ]
          },
          "metadata": {},
          "execution_count": 149
        },
        {
          "output_type": "display_data",
          "data": {
            "text/plain": [
              "<Figure size 640x480 with 1 Axes>"
            ],
            "image/png": "[encoded data removed]"
          },
          "metadata": {}
        }
      ],
      "source": [
        "best_depth = model_choices[np.argmax(valid_acc)]\n",
        "dt = DecisionTree(max_depth=best_depth, cost_fn=cost_entropy) # Here you will notice cost_entropy as a parameter\n",
        "y_test_prob = dt.fit(x_train_breast, y_train_breast).predict(x_test_breast)\n",
        "y_test_pred = np.argmax(y_test_prob, axis=-1)\n",
        "test_accuracy = np.sum(y_test_pred == y_test_breast)/y_test_breast.shape[0]\n",
        "print(f'BCW best depth = {best_depth}, BCW test accuracy = {test_accuracy}')\n",
        "\n",
        "plt.plot(model_choices, train_acc, marker='d', color='black', label='training')\n",
        "plt.plot(model_choices, valid_acc, marker='o', color='blue', label='validation')\n",
        "plt.plot(best_depth, test_accuracy, marker='*', color='red', label='testing')\n",
        "plt.xlabel(\"Tree depth\")\n",
        "plt.ylabel(\"Accuracy\")\n",
        "plt.legend(loc='best')"
      ]
    },
    {
      "cell_type": "code",
      "execution_count": null,
      "metadata": {
        "id": "NQVXxoDA1aEo",
        "colab": {
          "base_uri": "https://localhost:8080/",
          "height": 489
        },
        "outputId": "3b43f5e3-06c9-4992-ed54-f06d188ec836"
      },
      "outputs": [
        {
          "output_type": "execute_result",
          "data": {
            "text/plain": [
              "<matplotlib.legend.Legend at 0x7b8c1a74f7c0>"
            ]
          },
          "metadata": {},
          "execution_count": 150
        },
        {
          "output_type": "display_data",
          "data": {
            "text/plain": [
              "<Figure size 640x480 with 1 Axes>"
            ],
            "image/png": "[encoded data removed]"
          },
          "metadata": {}
        }
      ],
      "source": [
        "from sklearn.neighbors import KNeighborsClassifier\n",
        "from sklearn.metrics import roc_curve, roc_auc_score\n",
        "\n",
        "fpr1, tpr1, threshold1 = roc_curve(y_test_breast, y_test_prob[:, 1], pos_label=1)\n",
        "roc_auc1 = roc_auc_score(y_test_breast, y_test_prob[:, 1])\n",
        "\n",
        "plt.clf()\n",
        "plt.plot(fpr1, tpr1, \"b-\", lw=2, label=\"AUROC DT = %0.2f\"%roc_auc1)\n",
        "\n",
        "plt.axline((0, 0), (1, 1), linestyle=\"--\", lw=1, color='gray')\n",
        "plt.xlabel('False Positive Rate')\n",
        "plt.ylabel('True Positive Rate')\n",
        "plt.title('ROC in predicting cancer')\n",
        "plt.legend(loc=\"best\")"
      ]
    },
    {
      "cell_type": "code",
      "execution_count": null,
      "metadata": {
        "id": "e5XRNeMS0TwV",
        "colab": {
          "base_uri": "https://localhost:8080/"
        },
        "outputId": "a36dabae-f94b-40b0-fe7a-8b84121e7579"
      },
      "outputs": [
        {
          "output_type": "stream",
          "name": "stdout",
          "text": [
            "    y_test_breast  y-pred_breast\n",
            "0               0       0.000000\n",
            "1               0       0.555556\n",
            "2               0       0.000000\n",
            "3               1       0.918919\n",
            "4               0       0.000000\n",
            "..            ...            ...\n",
            "85              0       0.000000\n",
            "86              0       0.000000\n",
            "87              1       1.000000\n",
            "88              0       0.000000\n",
            "89              1       0.954545\n",
            "\n",
            "[90 rows x 2 columns]\n"
          ]
        }
      ],
      "source": [
        "results = pd.DataFrame({\n",
        "    'y_test_breast': y_test_breast,\n",
        "    'y-pred_breast': y_test_prob[:, 1]\n",
        "})\n",
        "\n",
        "results.to_csv('breast_ROC.csv')\n",
        "print(results)"
      ]
    },
    {
      "cell_type": "markdown",
      "metadata": {
        "id": "v_akBS5Wow2f"
      },
      "source": [
        "# NHANES Experiments:"
      ]
    },
    {
      "cell_type": "code",
      "execution_count": null,
      "metadata": {
        "id": "KA3eF4lDoq37",
        "colab": {
          "base_uri": "https://localhost:8080/"
        },
        "outputId": "f1801119-5f7a-4e75-dbd1-ce96c22cc72b"
      },
      "outputs": [
        {
          "output_type": "stream",
          "name": "stdout",
          "text": [
            "Top 3 Features:\n",
            "                    Accuracy\n",
            "Misclassification     100.0\n",
            "Gini Index            100.0\n",
            "Entropy               100.0\n"
          ]
        }
      ],
      "source": [
        "# Accuracy at best tree depth:\n",
        "\n",
        "misclassification_tree = DecisionTree(max_depth=4, cost_fn=cost_misclassification)\n",
        "gini_tree = DecisionTree(max_depth=4, cost_fn=cost_gini_index)\n",
        "entropy_tree = DecisionTree(max_depth=4, cost_fn=cost_entropy)\n",
        "\n",
        "probs_test = misclassification_tree.fit(x_train_nhanes, y_train_nhanes).predict(x_test_nhanes)\n",
        "y_pred = np.argmax(probs_test,1)\n",
        "m_accuracy = np.sum(y_pred == y_test_nhanes)/y_test_nhanes.shape[0]\n",
        "\n",
        "probs_test = gini_tree.fit(x_train_nhanes, y_train_nhanes).predict(x_test_nhanes)\n",
        "y_pred = np.argmax(probs_test,1)\n",
        "g_accuracy = np.sum(y_pred == y_test_nhanes)/y_test_nhanes.shape[0]\n",
        "\n",
        "probs_test = entropy_tree.fit(x_train_nhanes, y_train_nhanes).predict(x_test_nhanes)\n",
        "y_pred = np.argmax(probs_test,1)\n",
        "e_accuracy = np.sum(y_pred == y_test_nhanes)/y_test_nhanes.shape[0]\n",
        "\n",
        "accuracy_values = {\"Accuracy\": [m_accuracy*100, g_accuracy*100, e_accuracy*100]}\n",
        "df_accuracy = pd.DataFrame(accuracy_values, index = [\"Misclassification\", \"Gini Index\", \"Entropy\"])\n",
        "print('Top 3 Features:\\n', df_accuracy)"
      ]
    },
    {
      "cell_type": "markdown",
      "metadata": {
        "id": "YmtH9W3roq4G"
      },
      "source": [
        "# Training/Validation Split:"
      ]
    },
    {
      "cell_type": "code",
      "execution_count": null,
      "metadata": {
        "id": "wIcvVOL4oq4G"
      },
      "outputs": [],
      "source": [
        "x_train_tr, y_train_tr = x_train_nhanes[:179], y_train_nhanes[:179]\n",
        "x_train_va, y_train_va = x_train_nhanes[179:], y_train_nhanes[179:]\n",
        "\n",
        "model_choices=[]\n",
        "train_acc = []\n",
        "valid_acc = []\n",
        "\n",
        "n_train = y_train_tr.shape[0]\n",
        "n_valid = y_train_va.shape[0]\n",
        "\n",
        "for k in range(1, 20):\n",
        "    dt = DecisionTree(max_depth=k)\n",
        "\n",
        "    y_train_tr_prob = dt.fit(x_train_tr, y_train_tr).predict(x_train_tr)\n",
        "    y_train_tr_pred = np.argmax(y_train_tr_prob, axis=-1)\n",
        "    acc_tr = np.sum(y_train_tr_pred == y_train_tr)/n_train\n",
        "\n",
        "    y_train_va_prob = dt.fit(x_train_tr, y_train_tr).predict(x_train_va)\n",
        "    y_train_va_pred = np.argmax(y_train_va_prob, axis=-1)\n",
        "    acc_va = np.sum(y_train_va_pred == y_train_va)/n_valid\n",
        "\n",
        "    model_choices.append(k)\n",
        "    train_acc.append(acc_tr)\n",
        "    valid_acc.append(acc_va)"
      ]
    },
    {
      "cell_type": "markdown",
      "metadata": {
        "id": "udGrJMaBoq4G"
      },
      "source": [
        "# Example with best depth (all cost functions return 100% accuracy):"
      ]
    },
    {
      "cell_type": "code",
      "execution_count": null,
      "metadata": {
        "id": "S_s1ZY3moq4H",
        "colab": {
          "base_uri": "https://localhost:8080/",
          "height": 484
        },
        "outputId": "7dc753d5-14ff-4675-e148-0da769c00a0d"
      },
      "outputs": [
        {
          "output_type": "stream",
          "name": "stdout",
          "text": [
            "BCW best depth = 1, BCW test accuracy = 1.0\n"
          ]
        },
        {
          "output_type": "execute_result",
          "data": {
            "text/plain": [
              "<matplotlib.legend.Legend at 0x7b8c1c9c2a70>"
            ]
          },
          "metadata": {},
          "execution_count": 154
        },
        {
          "output_type": "display_data",
          "data": {
            "text/plain": [
              "<Figure size 640x480 with 1 Axes>"
            ],
            "image/png": "[encoded data removed]"
          },
          "metadata": {}
        }
      ],
      "source": [
        "best_depth = model_choices[np.argmax(valid_acc)]\n",
        "dt = DecisionTree(max_depth=best_depth, cost_fn=cost_entropy) # Here you will notice cost_entropy as a parameter\n",
        "y_test_prob = dt.fit(x_train_nhanes, y_train_nhanes).predict(x_test_nhanes)\n",
        "y_test_pred = np.argmax(y_test_prob, axis=-1)\n",
        "test_accuracy = np.sum(y_test_pred == y_test_nhanes)/y_test_nhanes.shape[0]\n",
        "print(f'BCW best depth = {best_depth}, BCW test accuracy = {test_accuracy}')\n",
        "\n",
        "plt.plot(model_choices, train_acc, marker='d', color='black', label='training')\n",
        "plt.plot(model_choices, valid_acc, marker='o', color='blue', label='validation')\n",
        "plt.plot(best_depth, test_accuracy, marker='*', color='red', label='testing')\n",
        "plt.xlabel(\"Tree depth\")\n",
        "plt.ylabel(\"Accuracy\")\n",
        "plt.legend(loc='best')"
      ]
    },
    {
      "cell_type": "code",
      "execution_count": null,
      "metadata": {
        "id": "Gnbdfy2goq4H",
        "colab": {
          "base_uri": "https://localhost:8080/",
          "height": 489
        },
        "outputId": "8c9649af-1fec-4282-ad56-6730e69505ed"
      },
      "outputs": [
        {
          "output_type": "execute_result",
          "data": {
            "text/plain": [
              "<matplotlib.legend.Legend at 0x7b8c1a81e710>"
            ]
          },
          "metadata": {},
          "execution_count": 155
        },
        {
          "output_type": "display_data",
          "data": {
            "text/plain": [
              "<Figure size 640x480 with 1 Axes>"
            ],
            "image/png": "[encoded data removed]"
          },
          "metadata": {}
        }
      ],
      "source": [
        "fpr1, tpr1, threshold1 = roc_curve(y_test_nhanes, y_test_prob[:, 1], pos_label=1)\n",
        "roc_auc1 = roc_auc_score(y_test_nhanes, y_test_prob[:, 1])\n",
        "\n",
        "plt.clf()\n",
        "plt.plot(fpr1, tpr1, \"b-\", lw=2, label=\"AUROC DT = %0.2f\"%roc_auc1)\n",
        "\n",
        "plt.axline((0, 0), (1, 1), linestyle=\"--\", lw=1, color='gray')\n",
        "plt.xlabel('False Positive Rate')\n",
        "plt.ylabel('True Positive Rate')\n",
        "plt.title('ROC in predicting Age Group')\n",
        "plt.legend(loc=\"best\")"
      ]
    },
    {
      "cell_type": "code",
      "execution_count": null,
      "metadata": {
        "id": "j603XiUh1U0c",
        "colab": {
          "base_uri": "https://localhost:8080/"
        },
        "outputId": "24d4d6d2-f353-4401-b8d9-a064cd283813"
      },
      "outputs": [
        {
          "output_type": "stream",
          "name": "stdout",
          "text": [
            "     y_test_nhanes  y-pred_nhanes\n",
            "0                0            0.0\n",
            "1                0            0.0\n",
            "2                0            0.0\n",
            "3                0            0.0\n",
            "4                0            0.0\n",
            "..             ...            ...\n",
            "451              1            1.0\n",
            "452              0            0.0\n",
            "453              0            0.0\n",
            "454              1            1.0\n",
            "455              0            0.0\n",
            "\n",
            "[456 rows x 2 columns]\n"
          ]
        }
      ],
      "source": [
        "results = pd.DataFrame({\n",
        "    'y_test_nhanes': y_test_nhanes,\n",
        "    'y-pred_nhanes': y_test_prob[:, 1]\n",
        "})\n",
        "\n",
        "results.to_csv('nhanes_ROC.csv')\n",
        "print(results)"
      ]
    },
    {
      "cell_type": "markdown",
      "metadata": {
        "id": "JUdgd5gvpqKo"
      },
      "source": [
        "# Experiments: Evaluation of DT model\n",
        "The evaluation of the decision tree model was measured for a range of maximum depth k for k = [1, 20] using three separate training costs and finding the best depth for each. The range of k depth values was chosen to give general context to the results after preliminary tests showed significant diminishing returns in accuracy variance after a max depth of k » 7. The training costs implemented were chosen as misclassification rate, entropy, and gini index. The implementation of the same decision tree iteration using various training cost calculations highlights the strengths, weaknesses, and similarities of each in the results. General attributes of each training cost are as follows:\n",
        "\n",
        "  * Misclassification measures the total proportion of misclassified samples and has the potential to be insensitive as a training cost as a result (Source in report)\n",
        "\n",
        "  * Entropy refers to the amount of uncertainty present at a given node and is calculated by evaluating the potential split from each input variable across the possible outcomes. The lower the entropy, the more information is gained increasing decision accuracy (Source in report)\n",
        "\n",
        "  * The gini index is commonly used as the default cost function for decision tree architectures (such as in sklearn) and calculates how likely a variable is to be misclassified. In this case, low values also equate to increased decision accuracy (Source in report)\n",
        "\n",
        "  * NHANES DT Results\n",
        "\n",
        "Model | Misclassification | Entropy | Gini |\n",
        "    :---: |:---: | :---: | :---: |\n",
        "    `Evaluation Accuracy` | 1.0 | 1.0 | 1.0 |\n",
        "    `AUCROC` | 1.0 | 1.0 | 1.0 |\n",
        "    `Best Depth` | 1 | 1 | 1 | 1|\n",
        "    \n",
        "  * BREAST CANCER DT Results\n",
        "\n",
        "Model | Misclassification | Entropy | Gini |\n",
        "    :---: |:---: | :---: | :---: |\n",
        "    `Evaluation Accuracy` | 0.9555556 | 0.9333333 | 0.9555556 |\n",
        "    `AUCROC` | 0.95 | 0.98 | 0.95 |\n",
        "    `Best Depth` | 4 | 4 | 4 | 4|\n",
        "            \n",
        "In the case of the NHANES dataset, the model performed optimally under all conditions. We see subtle shifts in accuracy in the BREAST CANCER implementation, notably when using entropy as the training cost, which resulted in a slight decrease in accuracy measurements but a slight increase in AUCROC. Overall, the accuracy of the model is functionally consistent across all hyperparameters and cost functions."
      ]
    },
    {
      "cell_type": "markdown",
      "metadata": {
        "id": "9J3drrMzMQOd"
      },
      "source": [
        "# Plotting AUC Curves of KNN vs DT on both datasets"
      ]
    },
    {
      "cell_type": "code",
      "execution_count": null,
      "metadata": {
        "id": "xbT0eZj1Makw",
        "colab": {
          "base_uri": "https://localhost:8080/",
          "height": 646
        },
        "outputId": "087041f5-2058-4fdd-929d-e479756b66bd"
      },
      "outputs": [
        {
          "output_type": "stream",
          "name": "stderr",
          "text": [
            "<ipython-input-157-ee8445bd972f>:28: SettingWithCopyWarning: \n",
            "A value is trying to be set on a copy of a slice from a DataFrame\n",
            "\n",
            "See the caveats in the documentation: https://pandas.pydata.org/pandas-docs/stable/user_guide/indexing.html#returning-a-view-versus-a-copy\n",
            "  target.replace(4, 1, inplace=True)\n",
            "<ipython-input-157-ee8445bd972f>:29: SettingWithCopyWarning: \n",
            "A value is trying to be set on a copy of a slice from a DataFrame\n",
            "\n",
            "See the caveats in the documentation: https://pandas.pydata.org/pandas-docs/stable/user_guide/indexing.html#returning-a-view-versus-a-copy\n",
            "  target.replace(2, 0, inplace=True)\n"
          ]
        },
        {
          "output_type": "display_data",
          "data": {
            "text/plain": [
              "<Figure size 640x480 with 2 Axes>"
            ],
            "image/png": "[encoded data removed]"
          },
          "metadata": {}
        }
      ],
      "source": [
        "target = pd.read_csv('processed_BREAST_data_top_3_features.csv')\n",
        "target_nhanes = pd.read_csv('processed_NHANES_data_top_3_features.csv')\n",
        "\n",
        "DT_BCW = pd.read_csv('breast_ROC.csv')\n",
        "DT_NHANES = pd.read_csv('nhanes_ROC.csv')\n",
        "\n",
        "KNN_BCW = pd.read_csv('breast_knn_experiments_best_hyperparameters_results.csv')\n",
        "KNN_NHANES = pd.read_csv('nhanes_knn_experiments_best_hyperparameters_results.csv')\n",
        "\n",
        "def create_dataset_split(dataset: pd.DataFrame, create_val: bool = False) -> Tuple:\n",
        "    train, test = train_test_split(dataset, test_size=0.2, random_state=42)\n",
        "    if create_val:\n",
        "        train, val = train_test_split(train, test_size=0.2, random_state=42)\n",
        "        return train, val, test\n",
        "    else:\n",
        "        return train, test\n",
        "\n",
        "breast_train, breast_test = create_dataset_split(target)\n",
        "nhanes_train, nhanes_test = create_dataset_split(target_nhanes)\n",
        "\n",
        "DT_BCW_pred = DT_BCW[['y-pred_breast']]\n",
        "KNN_BCW_pred = KNN_BCW[['breast_predict_proba']]\n",
        "\n",
        "DT_NHANES_pred = DT_NHANES[['y-pred_nhanes']]\n",
        "KNN_NHANES_pred = KNN_NHANES[['nhanes_predict_proba']]\n",
        "\n",
        "target = breast_test[['Class']]\n",
        "target.replace(4, 1, inplace=True)\n",
        "target.replace(2, 0, inplace=True)\n",
        "\n",
        "target_nhanes = nhanes_test[['age_group']]\n",
        "\n",
        "fpr1, tpr1, thresholds = roc_curve(target, DT_BCW_pred, pos_label=1)\n",
        "roc_auc1 = auc(fpr1, tpr1)\n",
        "\n",
        "fpr2, tpr2, thresholds = roc_curve(target, KNN_BCW_pred, pos_label=1)\n",
        "roc_auc2 = auc(fpr2, tpr2)\n",
        "\n",
        "\n",
        "# create 2 subplots\n",
        "fig, ax = plt.subplots(nrows=1, ncols=2)\n",
        "\n",
        "ax[0].plot(fpr1, tpr1, \"r-\", lw=2, label=\"AUROC DT = %0.2f\"%roc_auc1)\n",
        "ax[0].plot(fpr2, tpr2, \"b-\", lw=2, label=\"AUROC KNN = %0.2f\"%roc_auc2)\n",
        "ax[0].axline((0, 0), (1, 1), linestyle=\"--\", lw=1, color='gray')\n",
        "ax[0].set_xlabel('False Positive Rate')\n",
        "ax[0].set_ylabel('True Positive Rate')\n",
        "ax[0].set_title('BREAST')\n",
        "ax[0].legend(loc=\"best\")\n",
        "\n",
        "nhanes_fpr1, nhanes_tpr1, _ = roc_curve(target_nhanes, DT_NHANES_pred, pos_label=1)\n",
        "nhanes_roc_auc1 = auc(nhanes_fpr1, nhanes_tpr1)\n",
        "\n",
        "nhanes_fpr2, nhanes_tpr2, thresholds = roc_curve(target_nhanes, KNN_NHANES_pred, pos_label=1)\n",
        "nhanes_roc_auc2 = auc(nhanes_fpr2, nhanes_tpr2)\n",
        "\n",
        "ax[1].plot(nhanes_fpr1, nhanes_tpr1, \"r-\", lw=2, label=\"AUROC DT = %0.2f\"%nhanes_roc_auc1)\n",
        "ax[1].plot(nhanes_fpr2, nhanes_tpr2, \"b-\", lw=2, label=\"AUROC KNN = %0.2f\"%nhanes_roc_auc2)\n",
        "ax[1].axline((0, 0), (1, 1), linestyle=\"--\", lw=1, color='gray')\n",
        "ax[1].set_xlabel('False Positive Rate')\n",
        "ax[1].set_ylabel('True Positive Rate')\n",
        "ax[1].set_title('NHANES')\n",
        "ax[1].legend(loc=\"best\")\n",
        "plt.savefig('dt_vs_knn.png')\n",
        "plt.show()"
      ]
    }
  ],
  "metadata": {
    "colab": {
      "provenance": []
    },
    "kernelspec": {
      "display_name": "Python 3",
      "name": "python3"
    },
    "language_info": {
      "name": "python"
    }
  },
  "nbformat": 4,
  "nbformat_minor": 0
}